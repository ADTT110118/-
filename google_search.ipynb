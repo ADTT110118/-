{
  "nbformat": 4,
  "nbformat_minor": 0,
  "metadata": {
    "colab": {
      "provenance": []
    },
    "kernelspec": {
      "name": "python3",
      "display_name": "Python 3"
    },
    "language_info": {
      "name": "python"
    }
  },
  "cells": [
    {
      "cell_type": "code",
      "execution_count": 1,
      "metadata": {
        "colab": {
          "base_uri": "https://localhost:8080/"
        },
        "id": "xBETt-D3bk3B",
        "outputId": "20f80880-80be-4e88-b499-e5d08dcf5192"
      },
      "outputs": [
        {
          "output_type": "stream",
          "name": "stdout",
          "text": [
            "標題 : LP33 - Band - Facebookwww.facebook.com › Pages › Public figure › Band › LP33\n",
            "網址 : https://www.facebook.com/LP33BAND/&sa=U&ved=2ahUKEwjmlcWx9oOCAxU3TTABHfI-A1oQFnoECAEQAg&usg=AOvVaw0-zAQKJJHzQSQbwtzVhhgV\n",
            "\n",
            "標題 : LP33 at Big Catz Feb 1st 2020 | What a night.. We had a great time ...www.facebook.com › Pages › Public figure › Band › LP33 › Videos\n",
            "網址 : https://www.facebook.com/LP33BAND/videos/lp33-at-big-catz-feb-1st-2020/850601392027926/&sa=U&ved=2ahUKEwjmlcWx9oOCAxU3TTABHfI-A1oQtwJ6BAgKEAE&usg=AOvVaw2BHU_EaJNW06iz7lYOd7OZ\n",
            "\n",
            "標題 : \n",
            "網址 : https://www.facebook.com/LP33BAND/videos/lp33-at-big-catz-feb-1st-2020/850601392027926/&sa=U&ved=2ahUKEwjmlcWx9oOCAxU3TTABHfI-A1oQuAJ6BAgKEAI&usg=AOvVaw1wXCJQzhIwEZ0q-gtfDMbi\n",
            "\n",
            "標題 : LP33 was live. - Band - Facebookwww.facebook.com › Pages › Public figure › Band › LP33 › Videos\n",
            "網址 : https://www.facebook.com/LP33BAND/videos/154596990033446/&sa=U&ved=2ahUKEwjmlcWx9oOCAxU3TTABHfI-A1oQtwJ6BAgJEAE&usg=AOvVaw1nmhzZVyMu1urdl8dDYflT\n",
            "\n",
            "標題 : \n",
            "網址 : https://www.facebook.com/LP33BAND/videos/154596990033446/&sa=U&ved=2ahUKEwjmlcWx9oOCAxU3TTABHfI-A1oQuAJ6BAgJEAI&usg=AOvVaw0K5FZQJBsbCseTLqB8RfLK\n",
            "\n",
            "標題 : LP33.TV - YouTubem.youtube.com › user › LP33tv › videos\n",
            "網址 : https://m.youtube.com/user/LP33tv/videos&sa=U&ved=2ahUKEwjmlcWx9oOCAxU3TTABHfI-A1oQFnoECAgQAg&usg=AOvVaw2njIMK8qGGFQKHmRo4Z_TL\n",
            "\n",
            "標題 : LP-33 Penetrating Lube - Liquid Performancewww.liquidperformance.com › Products\n",
            "網址 : https://www.liquidperformance.com/products/lp-33-penetrating-lube&sa=U&ved=2ahUKEwjmlcWx9oOCAxU3TTABHfI-A1oQFnoECAMQAg&usg=AOvVaw0OAMBuAN11sxYYM6ZrVtD2\n",
            "\n",
            "標題 : Classic Rock Band | Lp33 | United States - Wixlp33band.wixsite.com › lp33band\n",
            "網址 : https://lp33band.wixsite.com/lp33band&sa=U&ved=2ahUKEwjmlcWx9oOCAxU3TTABHfI-A1oQFnoECAYQAg&usg=AOvVaw0uEKJUPJ6d7x6OFwHkLyWE\n",
            "\n",
            "標題 : LP 33 plays the soundtrack of life - Galesburg Register Mailwww.galesburg.com › story › entertainment › events › 2019/02/13 › lp-33...\n",
            "網址 : https://www.galesburg.com/story/entertainment/events/2019/02/13/lp-33-plays-soundtrack-life/5811729007/&sa=U&ved=2ahUKEwjmlcWx9oOCAxU3TTABHfI-A1oQFnoECAQQAg&usg=AOvVaw16ma9XFOtSDagoBNHwbRaz\n",
            "\n",
            "標題 : Efficacy and safety of the probiotic Lactobacillus paracasei LP-33 in ...pubmed.ncbi.nlm.nih.gov › ...\n",
            "網址 : https://pubmed.ncbi.nlm.nih.gov/24569538/&sa=U&ved=2ahUKEwjmlcWx9oOCAxU3TTABHfI-A1oQFnoECAIQAg&usg=AOvVaw0WZvfe8dfRYVJm-sItol0a\n",
            "\n",
            "標題 : LP33 (@lp33band) • Instagram photos and videoswww.instagram.com › lp33band\n",
            "網址 : https://www.instagram.com/lp33band/&sa=U&ved=2ahUKEwjmlcWx9oOCAxU3TTABHfI-A1oQFnoECAcQAg&usg=AOvVaw2tq6xqVwJWX6neB15nVwBR\n",
            "\n"
          ]
        }
      ],
      "source": [
        "# Google Search\n",
        "import requests\n",
        "from bs4 import BeautifulSoup\n",
        "\n",
        "# google url\n",
        "google_url = 'https://www.google.com.tw/search'\n",
        "\n",
        "# parameter\n",
        "my_params = {'q': 'lp33'}\n",
        "\n",
        "r = requests.get(google_url, params = my_params)\n",
        "\n",
        "soup = BeautifulSoup(r.text,'html.parser')\n",
        "\n",
        "#print(soup.prettify())\n",
        "\n",
        "items = soup.select('div.kCrYT > a[href^=\"/url\"]')\n",
        "#print(items)\n",
        "\n",
        "for i in items:\n",
        "    # 標題\n",
        "    print(\"標題 : \" + i.text)\n",
        "    # 網址\n",
        "    print(\"網址 : \" + i.get('href').replace(\"/url?q=\",\"\"))\n",
        "    print()"
      ]
    }
  ]
}